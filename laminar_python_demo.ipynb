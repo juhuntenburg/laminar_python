{
 "cells": [
  {
   "cell_type": "code",
   "execution_count": 1,
   "metadata": {
    "collapsed": true
   },
   "outputs": [],
   "source": [
    "%matplotlib inline"
   ]
  },
  {
   "cell_type": "code",
   "execution_count": 2,
   "metadata": {
    "collapsed": true
   },
   "outputs": [],
   "source": [
    "from nilearn import plotting\n",
    "from nilearn._utils.niimg_conversions import _index_img\n",
    "import matplotlib.pyplot as plt"
   ]
  },
  {
   "cell_type": "markdown",
   "metadata": {},
   "source": [
    "### Import functions"
   ]
  },
  {
   "cell_type": "code",
   "execution_count": 3,
   "metadata": {
    "collapsed": true
   },
   "outputs": [],
   "source": [
    "import volumetric_layering"
   ]
  },
  {
   "cell_type": "markdown",
   "metadata": {},
   "source": [
    "### Set directories"
   ]
  },
  {
   "cell_type": "code",
   "execution_count": 4,
   "metadata": {
    "collapsed": false
   },
   "outputs": [],
   "source": [
    "base_dir = '/SCR/data/Julia_brainhack/'\n",
    "lut_dir = '/home/julia/workspace/cbstools/lookuptables/'\n",
    "\n",
    "gwb_prob = base_dir + 'adult_F04_intern_orig_binmask.nii.gz'\n",
    "cgb_prob = base_dir + 'adult_F04_extern_orig_binmask.nii.gz'\n",
    "intensity = base_dir + 'F04_01032013_MSME_TEsum_magn_initial.nii'\n",
    "mesh = base_dir + 'adult_F04__surf_2-2.vtk'\n"
   ]
  },
  {
   "cell_type": "code",
   "execution_count": 5,
   "metadata": {
    "collapsed": true
   },
   "outputs": [],
   "source": [
    "coords = (-5, -2, 1)\n",
    "n_layers = 5"
   ]
  },
  {
   "cell_type": "markdown",
   "metadata": {},
   "source": [
    "### Simplest input: tissue classification"
   ]
  },
  {
   "cell_type": "code",
   "execution_count": 6,
   "metadata": {
    "collapsed": false
   },
   "outputs": [
    {
     "data": {
      "text/plain": [
       "<nilearn.plotting.displays.ZSlicer at 0x7f50caa833d0>"
      ]
     },
     "execution_count": 6,
     "metadata": {},
     "output_type": "execute_result"
    },
    {
     "data": {
      "image/png": "[encoded data removed]",
      "text/plain": [
       "<matplotlib.figure.Figure at 0x7f50cbd85a90>"
      ]
     },
     "metadata": {},
     "output_type": "display_data"
    }
   ],
   "source": [
    "fig=plt.figure(figsize=(20,8));\n",
    "ax1=fig.add_subplot(211)\n",
    "plotting.plot_anat(gwb_prob, annotate=False, draw_cross=False, display_mode='z', cut_coords=coords, \n",
    "                   figure=fig, axes=ax1, title='GM/WM boundary')\n",
    "ax2=fig.add_subplot(212)\n",
    "plotting.plot_anat(cgb_prob, annotate=False, draw_cross=False, display_mode='z', cut_coords=coords, \n",
    "                   figure=fig, axes=ax2, title='GM/CSF boundary')"
   ]
  },
  {
   "cell_type": "markdown",
   "metadata": {},
   "source": [
    "### Transforming to levelsets"
   ]
  },
  {
   "cell_type": "code",
   "execution_count": null,
   "metadata": {
    "collapsed": true
   },
   "outputs": [],
   "source": [
    "gwb = volumetric_layering.create_levelsets(gwb_prob, base_name='/SCR/data/test/gwb')"
   ]
  },
  {
   "cell_type": "code",
   "execution_count": null,
   "metadata": {
    "collapsed": true
   },
   "outputs": [],
   "source": [
    "cgb = volumetric_layering.create_levelsets(cgb_prob, base_name='/SCR/data/test/cgb')"
   ]
  },
  {
   "cell_type": "code",
   "execution_count": null,
   "metadata": {
    "collapsed": false
   },
   "outputs": [],
   "source": [
    "fig=plt.figure(figsize=(20,8));\n",
    "ax1=fig.add_subplot(211)\n",
    "plotting.plot_anat(gwb, annotate=False, draw_cross=False, display_mode='z', cut_coords=coords, \n",
    "                   figure=fig, axes=ax1, title='GM/WM boundary')\n",
    "ax2=fig.add_subplot(212)\n",
    "plotting.plot_anat(cgb, annotate=False, draw_cross=False, display_mode='z', cut_coords=coords, \n",
    "                   figure=fig, axes=ax2, title='GM/CSF boundary')"
   ]
  },
  {
   "cell_type": "markdown",
   "metadata": {},
   "source": [
    "### Finding equivolumetric layers"
   ]
  },
  {
   "cell_type": "code",
   "execution_count": null,
   "metadata": {
    "collapsed": false
   },
   "outputs": [],
   "source": [
    "depth, layers, boundaries = volumetric_layering.layering(gwb, cgb, lut_dir, n_layers=n_layers, \n",
    "                                                         base_name='/SCR/data/test/layering')"
   ]
  },
  {
   "cell_type": "code",
   "execution_count": null,
   "metadata": {
    "collapsed": false
   },
   "outputs": [],
   "source": [
    "fig=plt.figure(figsize=(20,8));\n",
    "ax1=fig.add_subplot(211)\n",
    "plotting.plot_img(depth, annotate=False, draw_cross=False, display_mode='z', cut_coords=coords, \n",
    "                   figure=fig, axes=ax1, title='Equivolumetric depth', cmap='cubehelix_r')\n",
    "ax2=fig.add_subplot(212)\n",
    "plotting.plot_img(layers, annotate=False, draw_cross=False, display_mode='z', cut_coords=coords, \n",
    "                   figure=fig, axes=ax2, title='Equivolumetric layers', cmap='cubehelix_r', vmin=0, vmax=5)"
   ]
  },
  {
   "cell_type": "markdown",
   "metadata": {},
   "source": [
    "### Sampling intensity on layers"
   ]
  },
  {
   "cell_type": "code",
   "execution_count": null,
   "metadata": {
    "collapsed": true
   },
   "outputs": [],
   "source": [
    "profiles = volumetric_layering.profile_sampling(boundaries, intensity, base_name='/SCR/data/test/profile_volume')"
   ]
  },
  {
   "cell_type": "code",
   "execution_count": null,
   "metadata": {
    "collapsed": false
   },
   "outputs": [],
   "source": [
    "fig=plt.figure(figsize=(20,(n_layers+1)*4));\n",
    "for i in range(n_layers+1):\n",
    "    ax=fig.add_subplot(n_layers+1,1,i+1)\n",
    "    plotting.plot_img(_index_img(profiles, i), annotate=False, draw_cross=False, display_mode='z', cut_coords=coords, \n",
    "                       figure=fig, axes=ax, title='Layer %s'%str(i), cmap='cubehelix', black_bg=False)"
   ]
  },
  {
   "cell_type": "markdown",
   "metadata": {},
   "source": [
    "### If you are more into meshes"
   ]
  },
  {
   "cell_type": "code",
   "execution_count": null,
   "metadata": {
    "collapsed": false
   },
   "outputs": [],
   "source": [
    "profile_meshes = volumetric_layering.profile_meshing(profiles, mesh, base_name='/SCR/data/test/profile_meshes')"
   ]
  },
  {
   "cell_type": "markdown",
   "metadata": {
    "collapsed": true
   },
   "source": [
    "### Look at your mesh --> thanks to Anisha!"
   ]
  },
  {
   "cell_type": "code",
   "execution_count": null,
   "metadata": {
    "collapsed": true
   },
   "outputs": [],
   "source": [
    "from nbpapaya import Surface"
   ]
  },
  {
   "cell_type": "code",
   "execution_count": null,
   "metadata": {
    "collapsed": true
   },
   "outputs": [],
   "source": [
    "Surface('/SCR/data/test/profile_meshes_3.vtk')"
   ]
  }
 ],
 "metadata": {
  "kernelspec": {
   "display_name": "Python 2",
   "language": "python",
   "name": "python2"
  },
  "language_info": {
   "codemirror_mode": {
    "name": "ipython",
    "version": 2
   },
   "file_extension": ".py",
   "mimetype": "text/x-python",
   "name": "python",
   "nbconvert_exporter": "python",
   "pygments_lexer": "ipython2",
   "version": "2.7.6"
  }
 },
 "nbformat": 4,
 "nbformat_minor": 0
}
